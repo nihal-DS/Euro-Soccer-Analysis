{
 "cells": [
  {
   "cell_type": "code",
   "execution_count": 207,
   "id": "56b3191e-6402-4213-87de-750de6acf3d5",
   "metadata": {
    "tags": []
   },
   "outputs": [],
   "source": [
    "import numpy as np\n",
    "import pandas as pd\n",
    "import matplotlib.pyplot as plt\n",
    "import seaborn as sns\n",
    "import sqlite3\n",
    "import math\n",
    "from sklearn.model_selection import train_test_split\n",
    "from sklearn.linear_model import LinearRegression\n",
    "from sklearn.metrics import mean_squared_error\n",
    "from sklearn.ensemble import RandomForestRegressor"
   ]
  },
  {
   "cell_type": "code",
   "execution_count": 2,
   "id": "efe35a81-3773-41dc-ae97-9a9338b18472",
   "metadata": {
    "tags": []
   },
   "outputs": [],
   "source": [
    "# # Esatblishing connection with db\n",
    "# conn = sqlite3.connect(\"database.sqlite\")\n",
    "# cur = conn.cursor()\n",
    "\n",
    "# # Checking the values in 'Player Attribute' table\n",
    "# cur.execute(\"\"\"SELECT * FROM Player_Attributes LIMIT 3\"\"\")\n",
    "# for row in cur:\n",
    "#     print(row)\n",
    "\n",
    "# # Checking the names of all tables in the db    \n",
    "# cur.execute(\"\"\"SELECT name FROM sqlite_schema WHERE type='table' ORDER BY name\"\"\")\n",
    "# for row in cur:\n",
    "#     print(row)\n",
    "\n",
    "# # Saving all column names on 'Player Attribut' table \n",
    "# table_col_names = []\n",
    "# cur.execute(\"\"\"PRAGMA table_info(Player_Attributes)\"\"\")\n",
    "# for row in cur:\n",
    "#     table_col_names.append(row[1])\n",
    "\n",
    "# # Closing connection\n",
    "# cur.close()\n",
    "# conn.close()"
   ]
  },
  {
   "cell_type": "code",
   "execution_count": 4,
   "id": "5f89f121-1216-4c30-b4e1-ca1a456b8926",
   "metadata": {
    "tags": []
   },
   "outputs": [],
   "source": [
    "# print(len(table_col_names))\n",
    "# table_col_names"
   ]
  },
  {
   "cell_type": "code",
   "execution_count": 5,
   "id": "d0b1dba3-02d5-496b-8889-3941d5439867",
   "metadata": {
    "tags": []
   },
   "outputs": [],
   "source": [
    "conn = sqlite3.connect('database.sqlite')\n",
    "df_raw = pd.read_sql_query(\"SELECT * FROM Player_Attributes\", conn)\n",
    "conn.close()"
   ]
  },
  {
   "cell_type": "code",
   "execution_count": 6,
   "id": "c6367a98-e625-4fc6-837f-ba7cee31868e",
   "metadata": {
    "tags": []
   },
   "outputs": [],
   "source": [
    "df = df_raw.copy()"
   ]
  },
  {
   "cell_type": "code",
   "execution_count": 7,
   "id": "d8c35a2f-872e-4395-a54f-4dd283f18c65",
   "metadata": {
    "tags": []
   },
   "outputs": [
    {
     "data": {
      "text/html": [
       "<div>\n",
       "<style scoped>\n",
       "    .dataframe tbody tr th:only-of-type {\n",
       "        vertical-align: middle;\n",
       "    }\n",
       "\n",
       "    .dataframe tbody tr th {\n",
       "        vertical-align: top;\n",
       "    }\n",
       "\n",
       "    .dataframe thead th {\n",
       "        text-align: right;\n",
       "    }\n",
       "</style>\n",
       "<table border=\"1\" class=\"dataframe\">\n",
       "  <thead>\n",
       "    <tr style=\"text-align: right;\">\n",
       "      <th></th>\n",
       "      <th>id</th>\n",
       "      <th>player_fifa_api_id</th>\n",
       "      <th>player_api_id</th>\n",
       "      <th>date</th>\n",
       "      <th>overall_rating</th>\n",
       "      <th>potential</th>\n",
       "      <th>preferred_foot</th>\n",
       "      <th>attacking_work_rate</th>\n",
       "      <th>defensive_work_rate</th>\n",
       "      <th>crossing</th>\n",
       "      <th>...</th>\n",
       "      <th>vision</th>\n",
       "      <th>penalties</th>\n",
       "      <th>marking</th>\n",
       "      <th>standing_tackle</th>\n",
       "      <th>sliding_tackle</th>\n",
       "      <th>gk_diving</th>\n",
       "      <th>gk_handling</th>\n",
       "      <th>gk_kicking</th>\n",
       "      <th>gk_positioning</th>\n",
       "      <th>gk_reflexes</th>\n",
       "    </tr>\n",
       "  </thead>\n",
       "  <tbody>\n",
       "    <tr>\n",
       "      <th>0</th>\n",
       "      <td>1</td>\n",
       "      <td>218353</td>\n",
       "      <td>505942</td>\n",
       "      <td>2016-02-18 00:00:00</td>\n",
       "      <td>67.0</td>\n",
       "      <td>71.0</td>\n",
       "      <td>right</td>\n",
       "      <td>medium</td>\n",
       "      <td>medium</td>\n",
       "      <td>49.0</td>\n",
       "      <td>...</td>\n",
       "      <td>54.0</td>\n",
       "      <td>48.0</td>\n",
       "      <td>65.0</td>\n",
       "      <td>69.0</td>\n",
       "      <td>69.0</td>\n",
       "      <td>6.0</td>\n",
       "      <td>11.0</td>\n",
       "      <td>10.0</td>\n",
       "      <td>8.0</td>\n",
       "      <td>8.0</td>\n",
       "    </tr>\n",
       "    <tr>\n",
       "      <th>1</th>\n",
       "      <td>2</td>\n",
       "      <td>218353</td>\n",
       "      <td>505942</td>\n",
       "      <td>2015-11-19 00:00:00</td>\n",
       "      <td>67.0</td>\n",
       "      <td>71.0</td>\n",
       "      <td>right</td>\n",
       "      <td>medium</td>\n",
       "      <td>medium</td>\n",
       "      <td>49.0</td>\n",
       "      <td>...</td>\n",
       "      <td>54.0</td>\n",
       "      <td>48.0</td>\n",
       "      <td>65.0</td>\n",
       "      <td>69.0</td>\n",
       "      <td>69.0</td>\n",
       "      <td>6.0</td>\n",
       "      <td>11.0</td>\n",
       "      <td>10.0</td>\n",
       "      <td>8.0</td>\n",
       "      <td>8.0</td>\n",
       "    </tr>\n",
       "    <tr>\n",
       "      <th>2</th>\n",
       "      <td>3</td>\n",
       "      <td>218353</td>\n",
       "      <td>505942</td>\n",
       "      <td>2015-09-21 00:00:00</td>\n",
       "      <td>62.0</td>\n",
       "      <td>66.0</td>\n",
       "      <td>right</td>\n",
       "      <td>medium</td>\n",
       "      <td>medium</td>\n",
       "      <td>49.0</td>\n",
       "      <td>...</td>\n",
       "      <td>54.0</td>\n",
       "      <td>48.0</td>\n",
       "      <td>65.0</td>\n",
       "      <td>66.0</td>\n",
       "      <td>69.0</td>\n",
       "      <td>6.0</td>\n",
       "      <td>11.0</td>\n",
       "      <td>10.0</td>\n",
       "      <td>8.0</td>\n",
       "      <td>8.0</td>\n",
       "    </tr>\n",
       "    <tr>\n",
       "      <th>3</th>\n",
       "      <td>4</td>\n",
       "      <td>218353</td>\n",
       "      <td>505942</td>\n",
       "      <td>2015-03-20 00:00:00</td>\n",
       "      <td>61.0</td>\n",
       "      <td>65.0</td>\n",
       "      <td>right</td>\n",
       "      <td>medium</td>\n",
       "      <td>medium</td>\n",
       "      <td>48.0</td>\n",
       "      <td>...</td>\n",
       "      <td>53.0</td>\n",
       "      <td>47.0</td>\n",
       "      <td>62.0</td>\n",
       "      <td>63.0</td>\n",
       "      <td>66.0</td>\n",
       "      <td>5.0</td>\n",
       "      <td>10.0</td>\n",
       "      <td>9.0</td>\n",
       "      <td>7.0</td>\n",
       "      <td>7.0</td>\n",
       "    </tr>\n",
       "    <tr>\n",
       "      <th>4</th>\n",
       "      <td>5</td>\n",
       "      <td>218353</td>\n",
       "      <td>505942</td>\n",
       "      <td>2007-02-22 00:00:00</td>\n",
       "      <td>61.0</td>\n",
       "      <td>65.0</td>\n",
       "      <td>right</td>\n",
       "      <td>medium</td>\n",
       "      <td>medium</td>\n",
       "      <td>48.0</td>\n",
       "      <td>...</td>\n",
       "      <td>53.0</td>\n",
       "      <td>47.0</td>\n",
       "      <td>62.0</td>\n",
       "      <td>63.0</td>\n",
       "      <td>66.0</td>\n",
       "      <td>5.0</td>\n",
       "      <td>10.0</td>\n",
       "      <td>9.0</td>\n",
       "      <td>7.0</td>\n",
       "      <td>7.0</td>\n",
       "    </tr>\n",
       "  </tbody>\n",
       "</table>\n",
       "<p>5 rows × 42 columns</p>\n",
       "</div>"
      ],
      "text/plain": [
       "   id  player_fifa_api_id  player_api_id                 date  overall_rating  \\\n",
       "0   1              218353         505942  2016-02-18 00:00:00            67.0   \n",
       "1   2              218353         505942  2015-11-19 00:00:00            67.0   \n",
       "2   3              218353         505942  2015-09-21 00:00:00            62.0   \n",
       "3   4              218353         505942  2015-03-20 00:00:00            61.0   \n",
       "4   5              218353         505942  2007-02-22 00:00:00            61.0   \n",
       "\n",
       "   potential preferred_foot attacking_work_rate defensive_work_rate  crossing  \\\n",
       "0       71.0          right              medium              medium      49.0   \n",
       "1       71.0          right              medium              medium      49.0   \n",
       "2       66.0          right              medium              medium      49.0   \n",
       "3       65.0          right              medium              medium      48.0   \n",
       "4       65.0          right              medium              medium      48.0   \n",
       "\n",
       "   ...  vision  penalties  marking  standing_tackle  sliding_tackle  \\\n",
       "0  ...    54.0       48.0     65.0             69.0            69.0   \n",
       "1  ...    54.0       48.0     65.0             69.0            69.0   \n",
       "2  ...    54.0       48.0     65.0             66.0            69.0   \n",
       "3  ...    53.0       47.0     62.0             63.0            66.0   \n",
       "4  ...    53.0       47.0     62.0             63.0            66.0   \n",
       "\n",
       "   gk_diving  gk_handling  gk_kicking  gk_positioning  gk_reflexes  \n",
       "0        6.0         11.0        10.0             8.0          8.0  \n",
       "1        6.0         11.0        10.0             8.0          8.0  \n",
       "2        6.0         11.0        10.0             8.0          8.0  \n",
       "3        5.0         10.0         9.0             7.0          7.0  \n",
       "4        5.0         10.0         9.0             7.0          7.0  \n",
       "\n",
       "[5 rows x 42 columns]"
      ]
     },
     "execution_count": 7,
     "metadata": {},
     "output_type": "execute_result"
    }
   ],
   "source": [
    "df.head()"
   ]
  },
  {
   "cell_type": "code",
   "execution_count": 8,
   "id": "4b66a3ea-e809-4819-8e48-4d77f2ee6b17",
   "metadata": {
    "tags": []
   },
   "outputs": [
    {
     "data": {
      "text/plain": [
       "(183978, 42)"
      ]
     },
     "execution_count": 8,
     "metadata": {},
     "output_type": "execute_result"
    }
   ],
   "source": [
    "df.shape"
   ]
  },
  {
   "cell_type": "code",
   "execution_count": 9,
   "id": "91c80ce6-0410-4f45-aaa8-65b136a6ff9e",
   "metadata": {
    "tags": []
   },
   "outputs": [],
   "source": [
    "# Backward Elimination"
   ]
  },
  {
   "cell_type": "code",
   "execution_count": 23,
   "id": "dd38a8fd-d99e-406e-9136-41d80da9c1d5",
   "metadata": {
    "tags": []
   },
   "outputs": [],
   "source": [
    "# df.info()"
   ]
  },
  {
   "cell_type": "code",
   "execution_count": 21,
   "id": "70da57b5-fd14-4f0e-a61d-dbcedab62d23",
   "metadata": {
    "tags": []
   },
   "outputs": [],
   "source": [
    "# df.drop([\"id\", \"player_fifa_api_id\", \"player_api_id\", \"date\"], axis = 1, inplace = True)"
   ]
  },
  {
   "cell_type": "code",
   "execution_count": 31,
   "id": "3048c363-4192-4ef7-b6eb-84d816609fbb",
   "metadata": {
    "tags": []
   },
   "outputs": [],
   "source": [
    "# df.dropna(inplace = True)\n",
    "# print(df.shape)"
   ]
  },
  {
   "cell_type": "code",
   "execution_count": 72,
   "id": "a123368e-c81a-409a-8aaa-6ffa39ec0bd0",
   "metadata": {
    "tags": []
   },
   "outputs": [],
   "source": [
    "cat_cols = df.select_dtypes(include = 'object')"
   ]
  },
  {
   "cell_type": "code",
   "execution_count": 73,
   "id": "e9b044b5-f7fd-457e-92ab-4d2b0210afd7",
   "metadata": {
    "tags": []
   },
   "outputs": [
    {
     "data": {
      "text/plain": [
       "preferred_foot          2\n",
       "attacking_work_rate     8\n",
       "defensive_work_rate    18\n",
       "dtype: int64"
      ]
     },
     "execution_count": 73,
     "metadata": {},
     "output_type": "execute_result"
    }
   ],
   "source": [
    "cat_cols.nunique()"
   ]
  },
  {
   "cell_type": "code",
   "execution_count": 74,
   "id": "5f2f760b-70a5-4436-b6e8-92698ec80b23",
   "metadata": {
    "tags": []
   },
   "outputs": [
    {
     "name": "stdout",
     "output_type": "stream",
     "text": [
      "['right' 'left']\n",
      "['medium' 'high' 'low' 'None' 'le' 'norm' 'stoc' 'y']\n",
      "['medium' 'high' 'low' '5' 'ean' 'o' '1' 'ormal' '7' '2' '8' '4' 'tocky'\n",
      " '0' '3' '6' '9' 'es']\n"
     ]
    }
   ],
   "source": [
    "for i in cat_cols.columns:\n",
    "    print(cat_cols[i].unique())"
   ]
  },
  {
   "cell_type": "code",
   "execution_count": 75,
   "id": "646923cc-4bed-4ab4-ab76-640a7cbf7cb8",
   "metadata": {
    "tags": []
   },
   "outputs": [
    {
     "data": {
      "text/plain": [
       "medium    0.693470\n",
       "high      0.237439\n",
       "low       0.047512\n",
       "None      0.018392\n",
       "norm      0.001758\n",
       "y         0.000521\n",
       "stoc      0.000477\n",
       "le        0.000432\n",
       "Name: attacking_work_rate, dtype: float64"
      ]
     },
     "execution_count": 75,
     "metadata": {},
     "output_type": "execute_result"
    }
   ],
   "source": [
    "cat_cols['attacking_work_rate'].value_counts(normalize = True)"
   ]
  },
  {
   "cell_type": "code",
   "execution_count": 76,
   "id": "f5820649-4abf-4823-9f21-a134c4762c39",
   "metadata": {
    "tags": []
   },
   "outputs": [],
   "source": [
    "# cat_cols['defensive_work_rate'].value_counts(normalize = True)"
   ]
  },
  {
   "cell_type": "code",
   "execution_count": 77,
   "id": "8d43314c-226a-4523-ba59-0f825569507f",
   "metadata": {
    "tags": []
   },
   "outputs": [],
   "source": [
    "cat_cols.loc[~cat_cols['attacking_work_rate'].isin(['medium', 'high', 'low']), 'attacking_work_rate'] = 'other'"
   ]
  },
  {
   "cell_type": "code",
   "execution_count": 78,
   "id": "f209f1ad-3297-422c-988c-7db4745ea33c",
   "metadata": {
    "tags": []
   },
   "outputs": [],
   "source": [
    "cat_cols.loc[~cat_cols['defensive_work_rate'].isin(['medium', 'high', 'low']), 'defensive_work_rate'] = 'other'"
   ]
  },
  {
   "cell_type": "code",
   "execution_count": 79,
   "id": "578673bd-c79f-4697-8584-e98d8adb6837",
   "metadata": {
    "tags": []
   },
   "outputs": [],
   "source": [
    "cat_cols = pd.get_dummies(cat_cols, columns = ['preferred_foot'])"
   ]
  },
  {
   "cell_type": "code",
   "execution_count": 80,
   "id": "30463907-c416-4976-a7d0-0a3bac191d13",
   "metadata": {
    "tags": []
   },
   "outputs": [],
   "source": [
    "ordinal_encode = {'other': 0, 'low': 1, 'medium': 2, 'high': 3}\n",
    "cat_cols['attacking_work_rate'] = cat_cols['attacking_work_rate'].map(ordinal_encode)\n",
    "cat_cols['defensive_work_rate'] = cat_cols['defensive_work_rate'].map(ordinal_encode)"
   ]
  },
  {
   "cell_type": "code",
   "execution_count": 82,
   "id": "dec96528-a2a8-4740-a921-7ba4b11c7352",
   "metadata": {
    "tags": []
   },
   "outputs": [],
   "source": [
    "# cat_cols"
   ]
  },
  {
   "cell_type": "code",
   "execution_count": 83,
   "id": "f6c346db-2dea-4f3c-a37c-d6cdd49315ee",
   "metadata": {
    "tags": []
   },
   "outputs": [],
   "source": [
    "df.drop([\"preferred_foot\", \"attacking_work_rate\", \"defensive_work_rate\"], axis = 1, inplace = True)"
   ]
  },
  {
   "cell_type": "code",
   "execution_count": 84,
   "id": "918a51bf-8cdd-4e51-b9ad-fec2d7a14a4a",
   "metadata": {
    "tags": []
   },
   "outputs": [],
   "source": [
    "df = pd.concat([df, cat_cols], axis = 1)"
   ]
  },
  {
   "cell_type": "code",
   "execution_count": 88,
   "id": "04ab380a-c0d0-4f8f-968d-a8ff5d0ab5b5",
   "metadata": {
    "tags": []
   },
   "outputs": [],
   "source": [
    "# df.info()"
   ]
  },
  {
   "cell_type": "code",
   "execution_count": 82,
   "id": "c1c5fae0-05fd-40f0-ab0c-e8b4cffae6b2",
   "metadata": {
    "tags": []
   },
   "outputs": [],
   "source": [
    "# Build model using sk\n",
    "# Check important features using stats model?\n",
    "# Multicolinearity?\n",
    "# Check model assumptions from textbook\n",
    "# Recursive feature elimination"
   ]
  },
  {
   "cell_type": "code",
   "execution_count": 89,
   "id": "d7728948-2752-42af-ac45-bfee8028564b",
   "metadata": {
    "tags": []
   },
   "outputs": [],
   "source": [
    "df_50 = df.sample(n = 50000)"
   ]
  },
  {
   "cell_type": "code",
   "execution_count": 118,
   "id": "738f9b48-2a56-4b9a-9def-4d4fca95313d",
   "metadata": {
    "tags": []
   },
   "outputs": [
    {
     "name": "stdout",
     "output_type": "stream",
     "text": [
      "<class 'pandas.core.frame.DataFrame'>\n",
      "Int64Index: 50000 entries, 131098 to 135414\n",
      "Data columns (total 39 columns):\n",
      " #   Column                Non-Null Count  Dtype  \n",
      "---  ------                --------------  -----  \n",
      " 0   overall_rating        50000 non-null  float64\n",
      " 1   potential             50000 non-null  float64\n",
      " 2   crossing              50000 non-null  float64\n",
      " 3   finishing             50000 non-null  float64\n",
      " 4   heading_accuracy      50000 non-null  float64\n",
      " 5   short_passing         50000 non-null  float64\n",
      " 6   volleys               50000 non-null  float64\n",
      " 7   dribbling             50000 non-null  float64\n",
      " 8   curve                 50000 non-null  float64\n",
      " 9   free_kick_accuracy    50000 non-null  float64\n",
      " 10  long_passing          50000 non-null  float64\n",
      " 11  ball_control          50000 non-null  float64\n",
      " 12  acceleration          50000 non-null  float64\n",
      " 13  sprint_speed          50000 non-null  float64\n",
      " 14  agility               50000 non-null  float64\n",
      " 15  reactions             50000 non-null  float64\n",
      " 16  balance               50000 non-null  float64\n",
      " 17  shot_power            50000 non-null  float64\n",
      " 18  jumping               50000 non-null  float64\n",
      " 19  stamina               50000 non-null  float64\n",
      " 20  strength              50000 non-null  float64\n",
      " 21  long_shots            50000 non-null  float64\n",
      " 22  aggression            50000 non-null  float64\n",
      " 23  interceptions         50000 non-null  float64\n",
      " 24  positioning           50000 non-null  float64\n",
      " 25  vision                50000 non-null  float64\n",
      " 26  penalties             50000 non-null  float64\n",
      " 27  marking               50000 non-null  float64\n",
      " 28  standing_tackle       50000 non-null  float64\n",
      " 29  sliding_tackle        50000 non-null  float64\n",
      " 30  gk_diving             50000 non-null  float64\n",
      " 31  gk_handling           50000 non-null  float64\n",
      " 32  gk_kicking            50000 non-null  float64\n",
      " 33  gk_positioning        50000 non-null  float64\n",
      " 34  gk_reflexes           50000 non-null  float64\n",
      " 35  attacking_work_rate   50000 non-null  int64  \n",
      " 36  defensive_work_rate   50000 non-null  int64  \n",
      " 37  preferred_foot_left   50000 non-null  uint8  \n",
      " 38  preferred_foot_right  50000 non-null  uint8  \n",
      "dtypes: float64(35), int64(2), uint8(2)\n",
      "memory usage: 14.6 MB\n"
     ]
    }
   ],
   "source": [
    "df_50.info()"
   ]
  },
  {
   "cell_type": "code",
   "execution_count": 184,
   "id": "a005e4fc-3ba2-44a6-afe6-ab67ac861024",
   "metadata": {
    "tags": []
   },
   "outputs": [],
   "source": [
    "y = df_50['overall_rating']\n",
    "X = df_50.drop('overall_rating', axis = 1)"
   ]
  },
  {
   "cell_type": "code",
   "execution_count": 185,
   "id": "2516170e-de4c-482a-b940-f0eede82ec1c",
   "metadata": {
    "tags": []
   },
   "outputs": [],
   "source": [
    "col_name = X.columns"
   ]
  },
  {
   "cell_type": "code",
   "execution_count": 186,
   "id": "9ec80c40-1d88-4199-894c-4c95766bfe88",
   "metadata": {
    "tags": []
   },
   "outputs": [],
   "source": [
    "y_unscaled = y.copy()"
   ]
  },
  {
   "cell_type": "code",
   "execution_count": 187,
   "id": "129cb651-832f-4d3a-858e-7ebbde4757fb",
   "metadata": {
    "tags": []
   },
   "outputs": [],
   "source": [
    "from sklearn.preprocessing import StandardScaler\n",
    "scaler = StandardScaler()\n",
    "X_scale = scaler.fit_transform(X)\n",
    "y_scale = scaler.fit_transform(y.values.reshape((50000, 1)))"
   ]
  },
  {
   "cell_type": "code",
   "execution_count": 188,
   "id": "8e34c15c-1b5c-4a78-b81b-268d85338d88",
   "metadata": {
    "tags": []
   },
   "outputs": [],
   "source": [
    "import statsmodels.regression.linear_model as sm"
   ]
  },
  {
   "cell_type": "code",
   "execution_count": 190,
   "id": "ed2a7f6d-fbde-4ff9-a1fe-6ce177e09e5a",
   "metadata": {
    "tags": []
   },
   "outputs": [],
   "source": [
    "# stat_ols = sm.OLS(endog = y_scale, exog = X_scale).fit()\n",
    "# stat_ols.summary()"
   ]
  },
  {
   "cell_type": "code",
   "execution_count": 191,
   "id": "d187e5cd-1325-4a5c-871f-e55109cb3433",
   "metadata": {
    "tags": []
   },
   "outputs": [
    {
     "data": {
      "text/plain": [
       "array([ 0,  1,  2,  3,  4,  6,  7,  8,  9, 10, 11, 12, 13, 14, 15, 16, 17,\n",
       "       18, 19, 20, 21, 22, 23, 25, 26, 28, 29, 30, 31, 32, 33, 34],\n",
       "      dtype=int64)"
      ]
     },
     "execution_count": 191,
     "metadata": {},
     "output_type": "execute_result"
    }
   ],
   "source": [
    "# stat_ols.pvalues[stat_ols.pvalues>0.05]\n",
    "np.argwhere(stat_ols.pvalues<=0.05).flatten()"
   ]
  },
  {
   "cell_type": "code",
   "execution_count": 192,
   "id": "07f5a8c2-199b-4c4d-8494-0434d86006b5",
   "metadata": {
    "tags": []
   },
   "outputs": [
    {
     "data": {
      "text/plain": [
       "(38,)"
      ]
     },
     "execution_count": 192,
     "metadata": {},
     "output_type": "execute_result"
    }
   ],
   "source": [
    "stat_ols.pvalues.shape"
   ]
  },
  {
   "cell_type": "code",
   "execution_count": 193,
   "id": "55794dbd-76c7-4037-b981-9afb0dd6ae47",
   "metadata": {
    "tags": []
   },
   "outputs": [
    {
     "data": {
      "text/plain": [
       "array([ 0,  1,  2,  3,  4,  5,  6,  7,  8,  9, 10, 11, 12, 13, 14, 15, 16,\n",
       "       17, 18, 19, 20, 21, 22, 23, 24, 25, 26, 27, 28, 29, 30, 31, 32, 33,\n",
       "       34, 35, 37], dtype=int64)"
      ]
     },
     "execution_count": 193,
     "metadata": {},
     "output_type": "execute_result"
    }
   ],
   "source": [
    "np.argwhere(stat_ols.pvalues != np.max(stat_ols.pvalues)).flatten()"
   ]
  },
  {
   "cell_type": "code",
   "execution_count": 194,
   "id": "a43492da-dc1e-417d-af06-f63819b1700a",
   "metadata": {
    "tags": []
   },
   "outputs": [],
   "source": [
    "def backward_elimination(X, y):\n",
    "    significant_cols = np.array(range(38))\n",
    "    p_val = [1]\n",
    "    while len(p_val) > 0:\n",
    "        stat_ols = sm.OLS(endog = y, exog = X[:, significant_cols]).fit()\n",
    "        p_val = np.argwhere(stat_ols.pvalues>0.05).flatten()\n",
    "        significant_cols = np.argwhere(stat_ols.pvalues != np.max(stat_ols.pvalues)).flatten()\n",
    "    return significant_cols"
   ]
  },
  {
   "cell_type": "code",
   "execution_count": 195,
   "id": "f110a949-71a0-478e-bccf-451a746cc2cd",
   "metadata": {
    "tags": []
   },
   "outputs": [],
   "source": [
    "features = backward_elimination(X_scale, y_scale)"
   ]
  },
  {
   "cell_type": "code",
   "execution_count": 196,
   "id": "2abb3005-ac24-44f0-95c7-41ed8a63584c",
   "metadata": {
    "tags": []
   },
   "outputs": [
    {
     "data": {
      "text/plain": [
       "10"
      ]
     },
     "execution_count": 196,
     "metadata": {},
     "output_type": "execute_result"
    }
   ],
   "source": [
    "len(features)"
   ]
  },
  {
   "cell_type": "code",
   "execution_count": 197,
   "id": "a678047e-3d57-4a36-b907-84abc6ca5cd3",
   "metadata": {
    "tags": []
   },
   "outputs": [],
   "source": [
    "features = col_name[features]"
   ]
  },
  {
   "cell_type": "code",
   "execution_count": 205,
   "id": "3697f533-056f-48ea-8fc1-6f08d1f7f6f6",
   "metadata": {
    "tags": []
   },
   "outputs": [
    {
     "data": {
      "text/html": [
       "<div>\n",
       "<style scoped>\n",
       "    .dataframe tbody tr th:only-of-type {\n",
       "        vertical-align: middle;\n",
       "    }\n",
       "\n",
       "    .dataframe tbody tr th {\n",
       "        vertical-align: top;\n",
       "    }\n",
       "\n",
       "    .dataframe thead th {\n",
       "        text-align: right;\n",
       "    }\n",
       "</style>\n",
       "<table border=\"1\" class=\"dataframe\">\n",
       "  <thead>\n",
       "    <tr style=\"text-align: right;\">\n",
       "      <th></th>\n",
       "      <th>potential</th>\n",
       "      <th>crossing</th>\n",
       "      <th>finishing</th>\n",
       "      <th>heading_accuracy</th>\n",
       "      <th>short_passing</th>\n",
       "      <th>volleys</th>\n",
       "      <th>dribbling</th>\n",
       "      <th>free_kick_accuracy</th>\n",
       "      <th>long_passing</th>\n",
       "      <th>ball_control</th>\n",
       "    </tr>\n",
       "  </thead>\n",
       "  <tbody>\n",
       "    <tr>\n",
       "      <th>131098</th>\n",
       "      <td>76.0</td>\n",
       "      <td>66.0</td>\n",
       "      <td>29.0</td>\n",
       "      <td>79.0</td>\n",
       "      <td>66.0</td>\n",
       "      <td>43.0</td>\n",
       "      <td>44.0</td>\n",
       "      <td>30.0</td>\n",
       "      <td>60.0</td>\n",
       "      <td>62.0</td>\n",
       "    </tr>\n",
       "    <tr>\n",
       "      <th>142078</th>\n",
       "      <td>72.0</td>\n",
       "      <td>15.0</td>\n",
       "      <td>15.0</td>\n",
       "      <td>17.0</td>\n",
       "      <td>20.0</td>\n",
       "      <td>14.0</td>\n",
       "      <td>22.0</td>\n",
       "      <td>13.0</td>\n",
       "      <td>23.0</td>\n",
       "      <td>10.0</td>\n",
       "    </tr>\n",
       "    <tr>\n",
       "      <th>96394</th>\n",
       "      <td>78.0</td>\n",
       "      <td>75.0</td>\n",
       "      <td>74.0</td>\n",
       "      <td>76.0</td>\n",
       "      <td>80.0</td>\n",
       "      <td>84.0</td>\n",
       "      <td>80.0</td>\n",
       "      <td>71.0</td>\n",
       "      <td>74.0</td>\n",
       "      <td>82.0</td>\n",
       "    </tr>\n",
       "    <tr>\n",
       "      <th>18407</th>\n",
       "      <td>77.0</td>\n",
       "      <td>49.0</td>\n",
       "      <td>68.0</td>\n",
       "      <td>51.0</td>\n",
       "      <td>62.0</td>\n",
       "      <td>66.0</td>\n",
       "      <td>73.0</td>\n",
       "      <td>29.0</td>\n",
       "      <td>37.0</td>\n",
       "      <td>74.0</td>\n",
       "    </tr>\n",
       "    <tr>\n",
       "      <th>126390</th>\n",
       "      <td>73.0</td>\n",
       "      <td>55.0</td>\n",
       "      <td>67.0</td>\n",
       "      <td>73.0</td>\n",
       "      <td>59.0</td>\n",
       "      <td>64.0</td>\n",
       "      <td>55.0</td>\n",
       "      <td>53.0</td>\n",
       "      <td>42.0</td>\n",
       "      <td>68.0</td>\n",
       "    </tr>\n",
       "  </tbody>\n",
       "</table>\n",
       "</div>"
      ],
      "text/plain": [
       "        potential  crossing  finishing  heading_accuracy  short_passing  \\\n",
       "131098       76.0      66.0       29.0              79.0           66.0   \n",
       "142078       72.0      15.0       15.0              17.0           20.0   \n",
       "96394        78.0      75.0       74.0              76.0           80.0   \n",
       "18407        77.0      49.0       68.0              51.0           62.0   \n",
       "126390       73.0      55.0       67.0              73.0           59.0   \n",
       "\n",
       "        volleys  dribbling  free_kick_accuracy  long_passing  ball_control  \n",
       "131098     43.0       44.0                30.0          60.0          62.0  \n",
       "142078     14.0       22.0                13.0          23.0          10.0  \n",
       "96394      84.0       80.0                71.0          74.0          82.0  \n",
       "18407      66.0       73.0                29.0          37.0          74.0  \n",
       "126390     64.0       55.0                53.0          42.0          68.0  "
      ]
     },
     "execution_count": 205,
     "metadata": {},
     "output_type": "execute_result"
    }
   ],
   "source": [
    "X_ols = X.loc[:, features]\n",
    "X_ols.head()"
   ]
  },
  {
   "cell_type": "code",
   "execution_count": 216,
   "id": "68628a4f-92f8-4c51-bbfd-bffb3ad709f4",
   "metadata": {
    "tags": []
   },
   "outputs": [],
   "source": [
    "# plt.figure(figsize = (15, 15))\n",
    "# sns.heatmap(X.corr())"
   ]
  },
  {
   "cell_type": "code",
   "execution_count": 218,
   "id": "f1def9c3-0e56-4e46-99dc-784129fdf7fa",
   "metadata": {
    "tags": []
   },
   "outputs": [
    {
     "data": {
      "text/plain": [
       "<Axes: >"
      ]
     },
     "execution_count": 218,
     "metadata": {},
     "output_type": "execute_result"
    },
    {
     "data": {
      "image/png": "[encoded data removed]",
      "text/plain": [
       "<Figure size 900x900 with 2 Axes>"
      ]
     },
     "metadata": {},
     "output_type": "display_data"
    }
   ],
   "source": [
    "plt.figure(figsize = (9,9))\n",
    "sns.heatmap(X_ols.corr(), annot = True, square = True)"
   ]
  },
  {
   "cell_type": "code",
   "execution_count": null,
   "id": "1b91f4cc-786d-405d-a1bb-b417663ecb30",
   "metadata": {},
   "outputs": [],
   "source": []
  },
  {
   "cell_type": "code",
   "execution_count": null,
   "id": "92e4783b-341c-4afe-836b-4cf4e6a0f8f0",
   "metadata": {},
   "outputs": [],
   "source": []
  },
  {
   "cell_type": "code",
   "execution_count": null,
   "id": "9fb59b24-1802-429b-b863-7cfb9fcb734f",
   "metadata": {},
   "outputs": [],
   "source": []
  },
  {
   "cell_type": "code",
   "execution_count": null,
   "id": "e40b6db6-092a-4bcf-9843-aa92fb5cb16c",
   "metadata": {},
   "outputs": [],
   "source": []
  },
  {
   "cell_type": "code",
   "execution_count": 36,
   "id": "6f776675-6b3d-4186-aae0-4185a5b17281",
   "metadata": {
    "tags": []
   },
   "outputs": [],
   "source": [
    "# Manually selecting features (34)\n",
    "features = ['potential', 'crossing', 'finishing', 'heading_accuracy',\n",
    "           'short_passing', 'volleys', 'dribbling', 'curve', 'free_kick_accuracy',\n",
    "           'long_passing', 'ball_control', 'acceleration', 'sprint_speed',\n",
    "           'agility', 'reactions', 'balance', 'shot_power', 'jumping', 'stamina',\n",
    "           'strength', 'long_shots', 'aggression', 'interceptions', 'positioning',\n",
    "           'vision', 'penalties', 'marking', 'standing_tackle', 'sliding_tackle',\n",
    "           'gk_diving', 'gk_handling', 'gk_kicking', 'gk_positioning',\n",
    "           'gk_reflexes']\n",
    "target = ['overall_rating']"
   ]
  },
  {
   "cell_type": "code",
   "execution_count": 38,
   "id": "6d790650-952e-4d1b-adb3-0da7a7afac16",
   "metadata": {
    "tags": []
   },
   "outputs": [],
   "source": [
    "# df_50.info()"
   ]
  },
  {
   "cell_type": "code",
   "execution_count": 40,
   "id": "42142e1b-9d6a-4bd0-b9f8-47eaacfe800a",
   "metadata": {
    "tags": []
   },
   "outputs": [
    {
     "data": {
      "text/plain": [
       "(49012, 42)"
      ]
     },
     "execution_count": 40,
     "metadata": {},
     "output_type": "execute_result"
    }
   ],
   "source": [
    "df_50 = df_50.dropna()\n",
    "df_50.shape"
   ]
  },
  {
   "cell_type": "code",
   "execution_count": 41,
   "id": "93f01b7a-3a0d-4b00-b401-39eb0be75f43",
   "metadata": {
    "tags": []
   },
   "outputs": [],
   "source": [
    "X = df_50[features]\n",
    "y = df_50[target]"
   ]
  },
  {
   "cell_type": "code",
   "execution_count": 45,
   "id": "f4dc18c3-3eeb-48fa-bf67-401305edf8d1",
   "metadata": {
    "tags": []
   },
   "outputs": [
    {
     "data": {
      "text/html": [
       "<div>\n",
       "<style scoped>\n",
       "    .dataframe tbody tr th:only-of-type {\n",
       "        vertical-align: middle;\n",
       "    }\n",
       "\n",
       "    .dataframe tbody tr th {\n",
       "        vertical-align: top;\n",
       "    }\n",
       "\n",
       "    .dataframe thead th {\n",
       "        text-align: right;\n",
       "    }\n",
       "</style>\n",
       "<table border=\"1\" class=\"dataframe\">\n",
       "  <thead>\n",
       "    <tr style=\"text-align: right;\">\n",
       "      <th></th>\n",
       "      <th>potential</th>\n",
       "      <th>crossing</th>\n",
       "      <th>finishing</th>\n",
       "      <th>heading_accuracy</th>\n",
       "      <th>short_passing</th>\n",
       "      <th>volleys</th>\n",
       "      <th>dribbling</th>\n",
       "      <th>curve</th>\n",
       "      <th>free_kick_accuracy</th>\n",
       "      <th>long_passing</th>\n",
       "      <th>...</th>\n",
       "      <th>vision</th>\n",
       "      <th>penalties</th>\n",
       "      <th>marking</th>\n",
       "      <th>standing_tackle</th>\n",
       "      <th>sliding_tackle</th>\n",
       "      <th>gk_diving</th>\n",
       "      <th>gk_handling</th>\n",
       "      <th>gk_kicking</th>\n",
       "      <th>gk_positioning</th>\n",
       "      <th>gk_reflexes</th>\n",
       "    </tr>\n",
       "  </thead>\n",
       "  <tbody>\n",
       "    <tr>\n",
       "      <th>92296</th>\n",
       "      <td>69.0</td>\n",
       "      <td>64.0</td>\n",
       "      <td>62.0</td>\n",
       "      <td>43.0</td>\n",
       "      <td>62.0</td>\n",
       "      <td>49.0</td>\n",
       "      <td>68.0</td>\n",
       "      <td>69.0</td>\n",
       "      <td>68.0</td>\n",
       "      <td>60.0</td>\n",
       "      <td>...</td>\n",
       "      <td>63.0</td>\n",
       "      <td>61.0</td>\n",
       "      <td>16.0</td>\n",
       "      <td>27.0</td>\n",
       "      <td>29.0</td>\n",
       "      <td>13.0</td>\n",
       "      <td>8.0</td>\n",
       "      <td>6.0</td>\n",
       "      <td>7.0</td>\n",
       "      <td>6.0</td>\n",
       "    </tr>\n",
       "    <tr>\n",
       "      <th>50343</th>\n",
       "      <td>83.0</td>\n",
       "      <td>50.0</td>\n",
       "      <td>44.0</td>\n",
       "      <td>57.0</td>\n",
       "      <td>73.0</td>\n",
       "      <td>50.0</td>\n",
       "      <td>72.0</td>\n",
       "      <td>49.0</td>\n",
       "      <td>57.0</td>\n",
       "      <td>66.0</td>\n",
       "      <td>...</td>\n",
       "      <td>67.0</td>\n",
       "      <td>59.0</td>\n",
       "      <td>54.0</td>\n",
       "      <td>59.0</td>\n",
       "      <td>47.0</td>\n",
       "      <td>13.0</td>\n",
       "      <td>7.0</td>\n",
       "      <td>7.0</td>\n",
       "      <td>12.0</td>\n",
       "      <td>10.0</td>\n",
       "    </tr>\n",
       "    <tr>\n",
       "      <th>107417</th>\n",
       "      <td>64.0</td>\n",
       "      <td>58.0</td>\n",
       "      <td>45.0</td>\n",
       "      <td>52.0</td>\n",
       "      <td>55.0</td>\n",
       "      <td>52.0</td>\n",
       "      <td>63.0</td>\n",
       "      <td>47.0</td>\n",
       "      <td>56.0</td>\n",
       "      <td>54.0</td>\n",
       "      <td>...</td>\n",
       "      <td>54.0</td>\n",
       "      <td>41.0</td>\n",
       "      <td>36.0</td>\n",
       "      <td>42.0</td>\n",
       "      <td>28.0</td>\n",
       "      <td>10.0</td>\n",
       "      <td>6.0</td>\n",
       "      <td>11.0</td>\n",
       "      <td>12.0</td>\n",
       "      <td>9.0</td>\n",
       "    </tr>\n",
       "    <tr>\n",
       "      <th>118031</th>\n",
       "      <td>72.0</td>\n",
       "      <td>47.0</td>\n",
       "      <td>75.0</td>\n",
       "      <td>77.0</td>\n",
       "      <td>66.0</td>\n",
       "      <td>70.0</td>\n",
       "      <td>62.0</td>\n",
       "      <td>49.0</td>\n",
       "      <td>39.0</td>\n",
       "      <td>41.0</td>\n",
       "      <td>...</td>\n",
       "      <td>68.0</td>\n",
       "      <td>68.0</td>\n",
       "      <td>22.0</td>\n",
       "      <td>29.0</td>\n",
       "      <td>17.0</td>\n",
       "      <td>3.0</td>\n",
       "      <td>3.0</td>\n",
       "      <td>3.0</td>\n",
       "      <td>3.0</td>\n",
       "      <td>3.0</td>\n",
       "    </tr>\n",
       "    <tr>\n",
       "      <th>89882</th>\n",
       "      <td>72.0</td>\n",
       "      <td>31.0</td>\n",
       "      <td>33.0</td>\n",
       "      <td>68.0</td>\n",
       "      <td>52.0</td>\n",
       "      <td>32.0</td>\n",
       "      <td>41.0</td>\n",
       "      <td>29.0</td>\n",
       "      <td>30.0</td>\n",
       "      <td>47.0</td>\n",
       "      <td>...</td>\n",
       "      <td>35.0</td>\n",
       "      <td>39.0</td>\n",
       "      <td>68.0</td>\n",
       "      <td>69.0</td>\n",
       "      <td>68.0</td>\n",
       "      <td>15.0</td>\n",
       "      <td>10.0</td>\n",
       "      <td>10.0</td>\n",
       "      <td>12.0</td>\n",
       "      <td>15.0</td>\n",
       "    </tr>\n",
       "  </tbody>\n",
       "</table>\n",
       "<p>5 rows × 34 columns</p>\n",
       "</div>"
      ],
      "text/plain": [
       "        potential  crossing  finishing  heading_accuracy  short_passing  \\\n",
       "92296        69.0      64.0       62.0              43.0           62.0   \n",
       "50343        83.0      50.0       44.0              57.0           73.0   \n",
       "107417       64.0      58.0       45.0              52.0           55.0   \n",
       "118031       72.0      47.0       75.0              77.0           66.0   \n",
       "89882        72.0      31.0       33.0              68.0           52.0   \n",
       "\n",
       "        volleys  dribbling  curve  free_kick_accuracy  long_passing  ...  \\\n",
       "92296      49.0       68.0   69.0                68.0          60.0  ...   \n",
       "50343      50.0       72.0   49.0                57.0          66.0  ...   \n",
       "107417     52.0       63.0   47.0                56.0          54.0  ...   \n",
       "118031     70.0       62.0   49.0                39.0          41.0  ...   \n",
       "89882      32.0       41.0   29.0                30.0          47.0  ...   \n",
       "\n",
       "        vision  penalties  marking  standing_tackle  sliding_tackle  \\\n",
       "92296     63.0       61.0     16.0             27.0            29.0   \n",
       "50343     67.0       59.0     54.0             59.0            47.0   \n",
       "107417    54.0       41.0     36.0             42.0            28.0   \n",
       "118031    68.0       68.0     22.0             29.0            17.0   \n",
       "89882     35.0       39.0     68.0             69.0            68.0   \n",
       "\n",
       "        gk_diving  gk_handling  gk_kicking  gk_positioning  gk_reflexes  \n",
       "92296        13.0          8.0         6.0             7.0          6.0  \n",
       "50343        13.0          7.0         7.0            12.0         10.0  \n",
       "107417       10.0          6.0        11.0            12.0          9.0  \n",
       "118031        3.0          3.0         3.0             3.0          3.0  \n",
       "89882        15.0         10.0        10.0            12.0         15.0  \n",
       "\n",
       "[5 rows x 34 columns]"
      ]
     },
     "execution_count": 45,
     "metadata": {},
     "output_type": "execute_result"
    }
   ],
   "source": [
    "X.head()"
   ]
  },
  {
   "cell_type": "code",
   "execution_count": 48,
   "id": "cb6b5f25-dc90-4fd8-8e5e-7c5ae72f207b",
   "metadata": {
    "tags": []
   },
   "outputs": [],
   "source": [
    "X_train, X_test, y_train, y_test = train_test_split(X, y, test_size = 0.3)"
   ]
  },
  {
   "cell_type": "code",
   "execution_count": 49,
   "id": "31848d54-ac25-4acb-ba67-2fe33a856c93",
   "metadata": {
    "tags": []
   },
   "outputs": [
    {
     "data": {
      "text/html": [
       "<style>#sk-container-id-1 {color: black;background-color: white;}#sk-container-id-1 pre{padding: 0;}#sk-container-id-1 div.sk-toggleable {background-color: white;}#sk-container-id-1 label.sk-toggleable__label {cursor: pointer;display: block;width: 100%;margin-bottom: 0;padding: 0.3em;box-sizing: border-box;text-align: center;}#sk-container-id-1 label.sk-toggleable__label-arrow:before {content: \"▸\";float: left;margin-right: 0.25em;color: #696969;}#sk-container-id-1 label.sk-toggleable__label-arrow:hover:before {color: black;}#sk-container-id-1 div.sk-estimator:hover label.sk-toggleable__label-arrow:before {color: black;}#sk-container-id-1 div.sk-toggleable__content {max-height: 0;max-width: 0;overflow: hidden;text-align: left;background-color: #f0f8ff;}#sk-container-id-1 div.sk-toggleable__content pre {margin: 0.2em;color: black;border-radius: 0.25em;background-color: #f0f8ff;}#sk-container-id-1 input.sk-toggleable__control:checked~div.sk-toggleable__content {max-height: 200px;max-width: 100%;overflow: auto;}#sk-container-id-1 input.sk-toggleable__control:checked~label.sk-toggleable__label-arrow:before {content: \"▾\";}#sk-container-id-1 div.sk-estimator input.sk-toggleable__control:checked~label.sk-toggleable__label {background-color: #d4ebff;}#sk-container-id-1 div.sk-label input.sk-toggleable__control:checked~label.sk-toggleable__label {background-color: #d4ebff;}#sk-container-id-1 input.sk-hidden--visually {border: 0;clip: rect(1px 1px 1px 1px);clip: rect(1px, 1px, 1px, 1px);height: 1px;margin: -1px;overflow: hidden;padding: 0;position: absolute;width: 1px;}#sk-container-id-1 div.sk-estimator {font-family: monospace;background-color: #f0f8ff;border: 1px dotted black;border-radius: 0.25em;box-sizing: border-box;margin-bottom: 0.5em;}#sk-container-id-1 div.sk-estimator:hover {background-color: #d4ebff;}#sk-container-id-1 div.sk-parallel-item::after {content: \"\";width: 100%;border-bottom: 1px solid gray;flex-grow: 1;}#sk-container-id-1 div.sk-label:hover label.sk-toggleable__label {background-color: #d4ebff;}#sk-container-id-1 div.sk-serial::before {content: \"\";position: absolute;border-left: 1px solid gray;box-sizing: border-box;top: 0;bottom: 0;left: 50%;z-index: 0;}#sk-container-id-1 div.sk-serial {display: flex;flex-direction: column;align-items: center;background-color: white;padding-right: 0.2em;padding-left: 0.2em;position: relative;}#sk-container-id-1 div.sk-item {position: relative;z-index: 1;}#sk-container-id-1 div.sk-parallel {display: flex;align-items: stretch;justify-content: center;background-color: white;position: relative;}#sk-container-id-1 div.sk-item::before, #sk-container-id-1 div.sk-parallel-item::before {content: \"\";position: absolute;border-left: 1px solid gray;box-sizing: border-box;top: 0;bottom: 0;left: 50%;z-index: -1;}#sk-container-id-1 div.sk-parallel-item {display: flex;flex-direction: column;z-index: 1;position: relative;background-color: white;}#sk-container-id-1 div.sk-parallel-item:first-child::after {align-self: flex-end;width: 50%;}#sk-container-id-1 div.sk-parallel-item:last-child::after {align-self: flex-start;width: 50%;}#sk-container-id-1 div.sk-parallel-item:only-child::after {width: 0;}#sk-container-id-1 div.sk-dashed-wrapped {border: 1px dashed gray;margin: 0 0.4em 0.5em 0.4em;box-sizing: border-box;padding-bottom: 0.4em;background-color: white;}#sk-container-id-1 div.sk-label label {font-family: monospace;font-weight: bold;display: inline-block;line-height: 1.2em;}#sk-container-id-1 div.sk-label-container {text-align: center;}#sk-container-id-1 div.sk-container {/* jupyter's `normalize.less` sets `[hidden] { display: none; }` but bootstrap.min.css set `[hidden] { display: none !important; }` so we also need the `!important` here to be able to override the default hidden behavior on the sphinx rendered scikit-learn.org. See: https://github.com/scikit-learn/scikit-learn/issues/21755 */display: inline-block !important;position: relative;}#sk-container-id-1 div.sk-text-repr-fallback {display: none;}</style><div id=\"sk-container-id-1\" class=\"sk-top-container\"><div class=\"sk-text-repr-fallback\"><pre>LinearRegression()</pre><b>In a Jupyter environment, please rerun this cell to show the HTML representation or trust the notebook. <br />On GitHub, the HTML representation is unable to render, please try loading this page with nbviewer.org.</b></div><div class=\"sk-container\" hidden><div class=\"sk-item\"><div class=\"sk-estimator sk-toggleable\"><input class=\"sk-toggleable__control sk-hidden--visually\" id=\"sk-estimator-id-1\" type=\"checkbox\" checked><label for=\"sk-estimator-id-1\" class=\"sk-toggleable__label sk-toggleable__label-arrow\">LinearRegression</label><div class=\"sk-toggleable__content\"><pre>LinearRegression()</pre></div></div></div></div></div>"
      ],
      "text/plain": [
       "LinearRegression()"
      ]
     },
     "execution_count": 49,
     "metadata": {},
     "output_type": "execute_result"
    }
   ],
   "source": [
    "lin_model1 = LinearRegression()\n",
    "lin_model1.fit(X_train, y_train)"
   ]
  },
  {
   "cell_type": "code",
   "execution_count": 50,
   "id": "ab517e5f-3dff-442f-a834-5100725ccadc",
   "metadata": {
    "tags": []
   },
   "outputs": [
    {
     "data": {
      "text/plain": [
       "array([[79.01520896],\n",
       "       [78.22603517],\n",
       "       [74.33510149],\n",
       "       ...,\n",
       "       [69.87301914],\n",
       "       [68.27069969],\n",
       "       [66.37610715]])"
      ]
     },
     "execution_count": 50,
     "metadata": {},
     "output_type": "execute_result"
    }
   ],
   "source": [
    "y_pred1 = lin_model1.predict(X_test)\n",
    "y_pred1"
   ]
  },
  {
   "cell_type": "code",
   "execution_count": 52,
   "id": "b6d50d90-9d1a-4576-a243-b10843ed8006",
   "metadata": {
    "tags": []
   },
   "outputs": [
    {
     "data": {
      "text/plain": [
       "68.597019183854"
      ]
     },
     "execution_count": 52,
     "metadata": {},
     "output_type": "execute_result"
    }
   ],
   "source": [
    "y_pred1.mean()"
   ]
  },
  {
   "cell_type": "code",
   "execution_count": 53,
   "id": "c7e24a00-f185-41b2-a6ef-d21a555750b3",
   "metadata": {
    "tags": []
   },
   "outputs": [
    {
     "data": {
      "text/plain": [
       "68.6000152886831"
      ]
     },
     "execution_count": 53,
     "metadata": {},
     "output_type": "execute_result"
    }
   ],
   "source": [
    "df['overall_rating'].mean()"
   ]
  },
  {
   "cell_type": "code",
   "execution_count": 80,
   "id": "a8837a9d-d0ec-4947-8dcb-73448d4b373a",
   "metadata": {
    "tags": []
   },
   "outputs": [
    {
     "name": "stdout",
     "output_type": "stream",
     "text": [
      "2.7886874646658746\n"
     ]
    }
   ],
   "source": [
    "# Root Mean Squared Error\n",
    "rmse_lin = math.sqrt(mean_squared_error(y_true = y_test, y_pred = y_pred1))\n",
    "print(rmse_lin)"
   ]
  },
  {
   "cell_type": "code",
   "execution_count": 77,
   "id": "f3c56e3e-f0cc-4f38-ae62-3a347a4b11ad",
   "metadata": {
    "tags": []
   },
   "outputs": [
    {
     "data": {
      "text/html": [
       "<style>#sk-container-id-2 {color: black;background-color: white;}#sk-container-id-2 pre{padding: 0;}#sk-container-id-2 div.sk-toggleable {background-color: white;}#sk-container-id-2 label.sk-toggleable__label {cursor: pointer;display: block;width: 100%;margin-bottom: 0;padding: 0.3em;box-sizing: border-box;text-align: center;}#sk-container-id-2 label.sk-toggleable__label-arrow:before {content: \"▸\";float: left;margin-right: 0.25em;color: #696969;}#sk-container-id-2 label.sk-toggleable__label-arrow:hover:before {color: black;}#sk-container-id-2 div.sk-estimator:hover label.sk-toggleable__label-arrow:before {color: black;}#sk-container-id-2 div.sk-toggleable__content {max-height: 0;max-width: 0;overflow: hidden;text-align: left;background-color: #f0f8ff;}#sk-container-id-2 div.sk-toggleable__content pre {margin: 0.2em;color: black;border-radius: 0.25em;background-color: #f0f8ff;}#sk-container-id-2 input.sk-toggleable__control:checked~div.sk-toggleable__content {max-height: 200px;max-width: 100%;overflow: auto;}#sk-container-id-2 input.sk-toggleable__control:checked~label.sk-toggleable__label-arrow:before {content: \"▾\";}#sk-container-id-2 div.sk-estimator input.sk-toggleable__control:checked~label.sk-toggleable__label {background-color: #d4ebff;}#sk-container-id-2 div.sk-label input.sk-toggleable__control:checked~label.sk-toggleable__label {background-color: #d4ebff;}#sk-container-id-2 input.sk-hidden--visually {border: 0;clip: rect(1px 1px 1px 1px);clip: rect(1px, 1px, 1px, 1px);height: 1px;margin: -1px;overflow: hidden;padding: 0;position: absolute;width: 1px;}#sk-container-id-2 div.sk-estimator {font-family: monospace;background-color: #f0f8ff;border: 1px dotted black;border-radius: 0.25em;box-sizing: border-box;margin-bottom: 0.5em;}#sk-container-id-2 div.sk-estimator:hover {background-color: #d4ebff;}#sk-container-id-2 div.sk-parallel-item::after {content: \"\";width: 100%;border-bottom: 1px solid gray;flex-grow: 1;}#sk-container-id-2 div.sk-label:hover label.sk-toggleable__label {background-color: #d4ebff;}#sk-container-id-2 div.sk-serial::before {content: \"\";position: absolute;border-left: 1px solid gray;box-sizing: border-box;top: 0;bottom: 0;left: 50%;z-index: 0;}#sk-container-id-2 div.sk-serial {display: flex;flex-direction: column;align-items: center;background-color: white;padding-right: 0.2em;padding-left: 0.2em;position: relative;}#sk-container-id-2 div.sk-item {position: relative;z-index: 1;}#sk-container-id-2 div.sk-parallel {display: flex;align-items: stretch;justify-content: center;background-color: white;position: relative;}#sk-container-id-2 div.sk-item::before, #sk-container-id-2 div.sk-parallel-item::before {content: \"\";position: absolute;border-left: 1px solid gray;box-sizing: border-box;top: 0;bottom: 0;left: 50%;z-index: -1;}#sk-container-id-2 div.sk-parallel-item {display: flex;flex-direction: column;z-index: 1;position: relative;background-color: white;}#sk-container-id-2 div.sk-parallel-item:first-child::after {align-self: flex-end;width: 50%;}#sk-container-id-2 div.sk-parallel-item:last-child::after {align-self: flex-start;width: 50%;}#sk-container-id-2 div.sk-parallel-item:only-child::after {width: 0;}#sk-container-id-2 div.sk-dashed-wrapped {border: 1px dashed gray;margin: 0 0.4em 0.5em 0.4em;box-sizing: border-box;padding-bottom: 0.4em;background-color: white;}#sk-container-id-2 div.sk-label label {font-family: monospace;font-weight: bold;display: inline-block;line-height: 1.2em;}#sk-container-id-2 div.sk-label-container {text-align: center;}#sk-container-id-2 div.sk-container {/* jupyter's `normalize.less` sets `[hidden] { display: none; }` but bootstrap.min.css set `[hidden] { display: none !important; }` so we also need the `!important` here to be able to override the default hidden behavior on the sphinx rendered scikit-learn.org. See: https://github.com/scikit-learn/scikit-learn/issues/21755 */display: inline-block !important;position: relative;}#sk-container-id-2 div.sk-text-repr-fallback {display: none;}</style><div id=\"sk-container-id-2\" class=\"sk-top-container\"><div class=\"sk-text-repr-fallback\"><pre>RandomForestRegressor()</pre><b>In a Jupyter environment, please rerun this cell to show the HTML representation or trust the notebook. <br />On GitHub, the HTML representation is unable to render, please try loading this page with nbviewer.org.</b></div><div class=\"sk-container\" hidden><div class=\"sk-item\"><div class=\"sk-estimator sk-toggleable\"><input class=\"sk-toggleable__control sk-hidden--visually\" id=\"sk-estimator-id-2\" type=\"checkbox\" checked><label for=\"sk-estimator-id-2\" class=\"sk-toggleable__label sk-toggleable__label-arrow\">RandomForestRegressor</label><div class=\"sk-toggleable__content\"><pre>RandomForestRegressor()</pre></div></div></div></div></div>"
      ],
      "text/plain": [
       "RandomForestRegressor()"
      ]
     },
     "execution_count": 77,
     "metadata": {},
     "output_type": "execute_result"
    }
   ],
   "source": [
    "rf1 = RandomForestRegressor()\n",
    "rf1.fit(X_train, y_train.values.flatten())"
   ]
  },
  {
   "cell_type": "code",
   "execution_count": 78,
   "id": "c40e60c2-d423-4301-97c2-8f5e9822a43c",
   "metadata": {
    "tags": []
   },
   "outputs": [
    {
     "data": {
      "text/plain": [
       "array([78.6       , 77.81      , 74.78      , ..., 72.83416667,\n",
       "       69.305     , 63.906     ])"
      ]
     },
     "execution_count": 78,
     "metadata": {},
     "output_type": "execute_result"
    }
   ],
   "source": [
    "y_pred2 = rf1.predict(X_test)\n",
    "y_pred2"
   ]
  },
  {
   "cell_type": "code",
   "execution_count": 79,
   "id": "5caf55d8-f197-41a0-95b2-1cc8df07d1d0",
   "metadata": {
    "tags": []
   },
   "outputs": [
    {
     "data": {
      "text/plain": [
       "68.60118758957422"
      ]
     },
     "execution_count": 79,
     "metadata": {},
     "output_type": "execute_result"
    }
   ],
   "source": [
    "y_pred2.mean()"
   ]
  },
  {
   "cell_type": "code",
   "execution_count": 81,
   "id": "c03f7415-2e6a-457a-aad5-3544a559d92f",
   "metadata": {
    "tags": []
   },
   "outputs": [
    {
     "name": "stdout",
     "output_type": "stream",
     "text": [
      "1.3415178752503538\n"
     ]
    }
   ],
   "source": [
    "rmse_rf = math.sqrt(mean_squared_error(y_true = y_test, y_pred = y_pred2))\n",
    "print(rmse_rf)"
   ]
  },
  {
   "cell_type": "code",
   "execution_count": null,
   "id": "69e6aa0e-f986-45b1-8436-df7530817f92",
   "metadata": {},
   "outputs": [],
   "source": []
  }
 ],
 "metadata": {
  "kernelspec": {
   "display_name": "Python 3 (ipykernel)",
   "language": "python",
   "name": "python3"
  },
  "language_info": {
   "codemirror_mode": {
    "name": "ipython",
    "version": 3
   },
   "file_extension": ".py",
   "mimetype": "text/x-python",
   "name": "python",
   "nbconvert_exporter": "python",
   "pygments_lexer": "ipython3",
   "version": "3.10.10"
  }
 },
 "nbformat": 4,
 "nbformat_minor": 5
}
